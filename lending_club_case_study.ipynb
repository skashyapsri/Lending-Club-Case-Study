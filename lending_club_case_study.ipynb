{
 "cells": [
  {
   "cell_type": "markdown",
   "metadata": {},
   "source": [
    "<h1>Lending Club Case Study</h1>\n",
    "</br>\n",
    "<h4>Author: Srikrishna S Kashyap</h4>\n",
    "\n",
    "<h4>BUSINESS PROBLEM</h4>\n",
    "<p>When the company receives a loan application, the company has to make a decision for loan approval based on the applicant’s profile. Two types of risks are associated with the bank’s decision:\n",
    "If the applicant is likely to repay the loan, then not approving the loan results in a loss of business to the company\n",
    "If the applicant is not likely to repay the loan, i.e. he/she is likely to default, then approving the loan may lead to a financial loss for the company.<p>\n",
    "\n",
    "<h4>OBJECTIVE</h4>\n",
    "<p>Use EDA to understand how consumer attributes and loan attributes influence the tendency of default.</p>"
   ]
  },
  {
   "cell_type": "code",
   "execution_count": 1,
   "metadata": {},
   "outputs": [],
   "source": [
    "#import all the necessary libraries\n",
    "\n",
    "import numpy as np\n",
    "import pandas as pd\n",
    "import seaborn as sns\n",
    "import matplotlib.pyplot as plt\n",
    "\n",
    "#If you remove this you'll see only 10 rows truncated with '...'\n",
    "pd.options.display.max_rows = 4000"
   ]
  },
  {
   "cell_type": "code",
   "execution_count": 2,
   "metadata": {},
   "outputs": [],
   "source": [
    "#Reading the CSV file\n",
    "#Make sure the CSV file is in the same file as the python kernel \n",
    "#Alternatively replace the CSV path in below code\n",
    "\n",
    "loans = pd.read_csv(\"loan.csv\",encoding='ISO-8859-1',low_memory=False)\n",
    "\n",
    "#Converting the interest rate from type string to float\n",
    "loans['int_rate'] = loans['int_rate'].str.split('%').str[0].astype(float)"
   ]
  },
  {
   "cell_type": "code",
   "execution_count": 3,
   "metadata": {},
   "outputs": [
    {
     "data": {
      "text/html": [
       "<div>\n",
       "<style scoped>\n",
       "    .dataframe tbody tr th:only-of-type {\n",
       "        vertical-align: middle;\n",
       "    }\n",
       "\n",
       "    .dataframe tbody tr th {\n",
       "        vertical-align: top;\n",
       "    }\n",
       "\n",
       "    .dataframe thead th {\n",
       "        text-align: right;\n",
       "    }\n",
       "</style>\n",
       "<table border=\"1\" class=\"dataframe\">\n",
       "  <thead>\n",
       "    <tr style=\"text-align: right;\">\n",
       "      <th></th>\n",
       "      <th>id</th>\n",
       "      <th>member_id</th>\n",
       "      <th>loan_amnt</th>\n",
       "      <th>funded_amnt</th>\n",
       "      <th>funded_amnt_inv</th>\n",
       "      <th>int_rate</th>\n",
       "      <th>installment</th>\n",
       "      <th>annual_inc</th>\n",
       "      <th>dti</th>\n",
       "      <th>delinq_2yrs</th>\n",
       "      <th>...</th>\n",
       "      <th>num_tl_90g_dpd_24m</th>\n",
       "      <th>num_tl_op_past_12m</th>\n",
       "      <th>pct_tl_nvr_dlq</th>\n",
       "      <th>percent_bc_gt_75</th>\n",
       "      <th>pub_rec_bankruptcies</th>\n",
       "      <th>tax_liens</th>\n",
       "      <th>tot_hi_cred_lim</th>\n",
       "      <th>total_bal_ex_mort</th>\n",
       "      <th>total_bc_limit</th>\n",
       "      <th>total_il_high_credit_limit</th>\n",
       "    </tr>\n",
       "  </thead>\n",
       "  <tbody>\n",
       "    <tr>\n",
       "      <th>count</th>\n",
       "      <td>3.971700e+04</td>\n",
       "      <td>3.971700e+04</td>\n",
       "      <td>39717.000000</td>\n",
       "      <td>39717.000000</td>\n",
       "      <td>39717.000000</td>\n",
       "      <td>39717.000000</td>\n",
       "      <td>39717.000000</td>\n",
       "      <td>3.971700e+04</td>\n",
       "      <td>39717.000000</td>\n",
       "      <td>39717.000000</td>\n",
       "      <td>...</td>\n",
       "      <td>0.0</td>\n",
       "      <td>0.0</td>\n",
       "      <td>0.0</td>\n",
       "      <td>0.0</td>\n",
       "      <td>39020.000000</td>\n",
       "      <td>39678.0</td>\n",
       "      <td>0.0</td>\n",
       "      <td>0.0</td>\n",
       "      <td>0.0</td>\n",
       "      <td>0.0</td>\n",
       "    </tr>\n",
       "    <tr>\n",
       "      <th>mean</th>\n",
       "      <td>6.831319e+05</td>\n",
       "      <td>8.504636e+05</td>\n",
       "      <td>11219.443815</td>\n",
       "      <td>10947.713196</td>\n",
       "      <td>10397.448868</td>\n",
       "      <td>12.021177</td>\n",
       "      <td>324.561922</td>\n",
       "      <td>6.896893e+04</td>\n",
       "      <td>13.315130</td>\n",
       "      <td>0.146512</td>\n",
       "      <td>...</td>\n",
       "      <td>NaN</td>\n",
       "      <td>NaN</td>\n",
       "      <td>NaN</td>\n",
       "      <td>NaN</td>\n",
       "      <td>0.043260</td>\n",
       "      <td>0.0</td>\n",
       "      <td>NaN</td>\n",
       "      <td>NaN</td>\n",
       "      <td>NaN</td>\n",
       "      <td>NaN</td>\n",
       "    </tr>\n",
       "    <tr>\n",
       "      <th>std</th>\n",
       "      <td>2.106941e+05</td>\n",
       "      <td>2.656783e+05</td>\n",
       "      <td>7456.670694</td>\n",
       "      <td>7187.238670</td>\n",
       "      <td>7128.450439</td>\n",
       "      <td>3.724825</td>\n",
       "      <td>208.874874</td>\n",
       "      <td>6.379377e+04</td>\n",
       "      <td>6.678594</td>\n",
       "      <td>0.491812</td>\n",
       "      <td>...</td>\n",
       "      <td>NaN</td>\n",
       "      <td>NaN</td>\n",
       "      <td>NaN</td>\n",
       "      <td>NaN</td>\n",
       "      <td>0.204324</td>\n",
       "      <td>0.0</td>\n",
       "      <td>NaN</td>\n",
       "      <td>NaN</td>\n",
       "      <td>NaN</td>\n",
       "      <td>NaN</td>\n",
       "    </tr>\n",
       "    <tr>\n",
       "      <th>min</th>\n",
       "      <td>5.473400e+04</td>\n",
       "      <td>7.069900e+04</td>\n",
       "      <td>500.000000</td>\n",
       "      <td>500.000000</td>\n",
       "      <td>0.000000</td>\n",
       "      <td>5.420000</td>\n",
       "      <td>15.690000</td>\n",
       "      <td>4.000000e+03</td>\n",
       "      <td>0.000000</td>\n",
       "      <td>0.000000</td>\n",
       "      <td>...</td>\n",
       "      <td>NaN</td>\n",
       "      <td>NaN</td>\n",
       "      <td>NaN</td>\n",
       "      <td>NaN</td>\n",
       "      <td>0.000000</td>\n",
       "      <td>0.0</td>\n",
       "      <td>NaN</td>\n",
       "      <td>NaN</td>\n",
       "      <td>NaN</td>\n",
       "      <td>NaN</td>\n",
       "    </tr>\n",
       "    <tr>\n",
       "      <th>25%</th>\n",
       "      <td>5.162210e+05</td>\n",
       "      <td>6.667800e+05</td>\n",
       "      <td>5500.000000</td>\n",
       "      <td>5400.000000</td>\n",
       "      <td>5000.000000</td>\n",
       "      <td>9.250000</td>\n",
       "      <td>167.020000</td>\n",
       "      <td>4.040400e+04</td>\n",
       "      <td>8.170000</td>\n",
       "      <td>0.000000</td>\n",
       "      <td>...</td>\n",
       "      <td>NaN</td>\n",
       "      <td>NaN</td>\n",
       "      <td>NaN</td>\n",
       "      <td>NaN</td>\n",
       "      <td>0.000000</td>\n",
       "      <td>0.0</td>\n",
       "      <td>NaN</td>\n",
       "      <td>NaN</td>\n",
       "      <td>NaN</td>\n",
       "      <td>NaN</td>\n",
       "    </tr>\n",
       "    <tr>\n",
       "      <th>50%</th>\n",
       "      <td>6.656650e+05</td>\n",
       "      <td>8.508120e+05</td>\n",
       "      <td>10000.000000</td>\n",
       "      <td>9600.000000</td>\n",
       "      <td>8975.000000</td>\n",
       "      <td>11.860000</td>\n",
       "      <td>280.220000</td>\n",
       "      <td>5.900000e+04</td>\n",
       "      <td>13.400000</td>\n",
       "      <td>0.000000</td>\n",
       "      <td>...</td>\n",
       "      <td>NaN</td>\n",
       "      <td>NaN</td>\n",
       "      <td>NaN</td>\n",
       "      <td>NaN</td>\n",
       "      <td>0.000000</td>\n",
       "      <td>0.0</td>\n",
       "      <td>NaN</td>\n",
       "      <td>NaN</td>\n",
       "      <td>NaN</td>\n",
       "      <td>NaN</td>\n",
       "    </tr>\n",
       "    <tr>\n",
       "      <th>75%</th>\n",
       "      <td>8.377550e+05</td>\n",
       "      <td>1.047339e+06</td>\n",
       "      <td>15000.000000</td>\n",
       "      <td>15000.000000</td>\n",
       "      <td>14400.000000</td>\n",
       "      <td>14.590000</td>\n",
       "      <td>430.780000</td>\n",
       "      <td>8.230000e+04</td>\n",
       "      <td>18.600000</td>\n",
       "      <td>0.000000</td>\n",
       "      <td>...</td>\n",
       "      <td>NaN</td>\n",
       "      <td>NaN</td>\n",
       "      <td>NaN</td>\n",
       "      <td>NaN</td>\n",
       "      <td>0.000000</td>\n",
       "      <td>0.0</td>\n",
       "      <td>NaN</td>\n",
       "      <td>NaN</td>\n",
       "      <td>NaN</td>\n",
       "      <td>NaN</td>\n",
       "    </tr>\n",
       "    <tr>\n",
       "      <th>max</th>\n",
       "      <td>1.077501e+06</td>\n",
       "      <td>1.314167e+06</td>\n",
       "      <td>35000.000000</td>\n",
       "      <td>35000.000000</td>\n",
       "      <td>35000.000000</td>\n",
       "      <td>24.590000</td>\n",
       "      <td>1305.190000</td>\n",
       "      <td>6.000000e+06</td>\n",
       "      <td>29.990000</td>\n",
       "      <td>11.000000</td>\n",
       "      <td>...</td>\n",
       "      <td>NaN</td>\n",
       "      <td>NaN</td>\n",
       "      <td>NaN</td>\n",
       "      <td>NaN</td>\n",
       "      <td>2.000000</td>\n",
       "      <td>0.0</td>\n",
       "      <td>NaN</td>\n",
       "      <td>NaN</td>\n",
       "      <td>NaN</td>\n",
       "      <td>NaN</td>\n",
       "    </tr>\n",
       "  </tbody>\n",
       "</table>\n",
       "<p>8 rows × 88 columns</p>\n",
       "</div>"
      ],
      "text/plain": [
       "                 id     member_id     loan_amnt   funded_amnt  \\\n",
       "count  3.971700e+04  3.971700e+04  39717.000000  39717.000000   \n",
       "mean   6.831319e+05  8.504636e+05  11219.443815  10947.713196   \n",
       "std    2.106941e+05  2.656783e+05   7456.670694   7187.238670   \n",
       "min    5.473400e+04  7.069900e+04    500.000000    500.000000   \n",
       "25%    5.162210e+05  6.667800e+05   5500.000000   5400.000000   \n",
       "50%    6.656650e+05  8.508120e+05  10000.000000   9600.000000   \n",
       "75%    8.377550e+05  1.047339e+06  15000.000000  15000.000000   \n",
       "max    1.077501e+06  1.314167e+06  35000.000000  35000.000000   \n",
       "\n",
       "       funded_amnt_inv      int_rate   installment    annual_inc  \\\n",
       "count     39717.000000  39717.000000  39717.000000  3.971700e+04   \n",
       "mean      10397.448868     12.021177    324.561922  6.896893e+04   \n",
       "std        7128.450439      3.724825    208.874874  6.379377e+04   \n",
       "min           0.000000      5.420000     15.690000  4.000000e+03   \n",
       "25%        5000.000000      9.250000    167.020000  4.040400e+04   \n",
       "50%        8975.000000     11.860000    280.220000  5.900000e+04   \n",
       "75%       14400.000000     14.590000    430.780000  8.230000e+04   \n",
       "max       35000.000000     24.590000   1305.190000  6.000000e+06   \n",
       "\n",
       "                dti   delinq_2yrs  ...  num_tl_90g_dpd_24m  \\\n",
       "count  39717.000000  39717.000000  ...                 0.0   \n",
       "mean      13.315130      0.146512  ...                 NaN   \n",
       "std        6.678594      0.491812  ...                 NaN   \n",
       "min        0.000000      0.000000  ...                 NaN   \n",
       "25%        8.170000      0.000000  ...                 NaN   \n",
       "50%       13.400000      0.000000  ...                 NaN   \n",
       "75%       18.600000      0.000000  ...                 NaN   \n",
       "max       29.990000     11.000000  ...                 NaN   \n",
       "\n",
       "       num_tl_op_past_12m  pct_tl_nvr_dlq  percent_bc_gt_75  \\\n",
       "count                 0.0             0.0               0.0   \n",
       "mean                  NaN             NaN               NaN   \n",
       "std                   NaN             NaN               NaN   \n",
       "min                   NaN             NaN               NaN   \n",
       "25%                   NaN             NaN               NaN   \n",
       "50%                   NaN             NaN               NaN   \n",
       "75%                   NaN             NaN               NaN   \n",
       "max                   NaN             NaN               NaN   \n",
       "\n",
       "       pub_rec_bankruptcies  tax_liens  tot_hi_cred_lim  total_bal_ex_mort  \\\n",
       "count          39020.000000    39678.0              0.0                0.0   \n",
       "mean               0.043260        0.0              NaN                NaN   \n",
       "std                0.204324        0.0              NaN                NaN   \n",
       "min                0.000000        0.0              NaN                NaN   \n",
       "25%                0.000000        0.0              NaN                NaN   \n",
       "50%                0.000000        0.0              NaN                NaN   \n",
       "75%                0.000000        0.0              NaN                NaN   \n",
       "max                2.000000        0.0              NaN                NaN   \n",
       "\n",
       "       total_bc_limit  total_il_high_credit_limit  \n",
       "count             0.0                         0.0  \n",
       "mean              NaN                         NaN  \n",
       "std               NaN                         NaN  \n",
       "min               NaN                         NaN  \n",
       "25%               NaN                         NaN  \n",
       "50%               NaN                         NaN  \n",
       "75%               NaN                         NaN  \n",
       "max               NaN                         NaN  \n",
       "\n",
       "[8 rows x 88 columns]"
      ]
     },
     "execution_count": 3,
     "metadata": {},
     "output_type": "execute_result"
    }
   ],
   "source": [
    "#We see that there are lot of null values.\n",
    "loans.describe()"
   ]
  },
  {
   "cell_type": "code",
   "execution_count": 4,
   "metadata": {},
   "outputs": [
    {
     "name": "stdout",
     "output_type": "stream",
     "text": [
      "<class 'pandas.core.frame.DataFrame'>\n",
      "RangeIndex: 39717 entries, 0 to 39716\n",
      "Columns: 111 entries, id to total_il_high_credit_limit\n",
      "dtypes: float64(75), int64(13), object(23)\n",
      "memory usage: 33.6+ MB\n"
     ]
    }
   ],
   "source": [
    "#Getting concise summary of the dataframe\n",
    "loans.info()"
   ]
  },
  {
   "cell_type": "markdown",
   "metadata": {},
   "source": [
    "<h3>CHECKPOINT 1</h3>\n",
    "<h3>DATA CLEANING</h3>"
   ]
  },
  {
   "cell_type": "code",
   "execution_count": 5,
   "metadata": {},
   "outputs": [
    {
     "data": {
      "text/plain": [
       "emp_title                           6.19\n",
       "emp_length                          2.71\n",
       "desc                               32.58\n",
       "title                               0.03\n",
       "mths_since_last_delinq             64.66\n",
       "mths_since_last_record             92.99\n",
       "revol_util                          0.13\n",
       "last_pymnt_d                        0.18\n",
       "next_pymnt_d                       97.13\n",
       "last_credit_pull_d                  0.01\n",
       "collections_12_mths_ex_med          0.14\n",
       "mths_since_last_major_derog       100.00\n",
       "annual_inc_joint                  100.00\n",
       "dti_joint                         100.00\n",
       "verification_status_joint         100.00\n",
       "tot_coll_amt                      100.00\n",
       "tot_cur_bal                       100.00\n",
       "open_acc_6m                       100.00\n",
       "open_il_6m                        100.00\n",
       "open_il_12m                       100.00\n",
       "open_il_24m                       100.00\n",
       "mths_since_rcnt_il                100.00\n",
       "total_bal_il                      100.00\n",
       "il_util                           100.00\n",
       "open_rv_12m                       100.00\n",
       "open_rv_24m                       100.00\n",
       "max_bal_bc                        100.00\n",
       "all_util                          100.00\n",
       "total_rev_hi_lim                  100.00\n",
       "inq_fi                            100.00\n",
       "total_cu_tl                       100.00\n",
       "inq_last_12m                      100.00\n",
       "acc_open_past_24mths              100.00\n",
       "avg_cur_bal                       100.00\n",
       "bc_open_to_buy                    100.00\n",
       "bc_util                           100.00\n",
       "chargeoff_within_12_mths            0.14\n",
       "mo_sin_old_il_acct                100.00\n",
       "mo_sin_old_rev_tl_op              100.00\n",
       "mo_sin_rcnt_rev_tl_op             100.00\n",
       "mo_sin_rcnt_tl                    100.00\n",
       "mort_acc                          100.00\n",
       "mths_since_recent_bc              100.00\n",
       "mths_since_recent_bc_dlq          100.00\n",
       "mths_since_recent_inq             100.00\n",
       "mths_since_recent_revol_delinq    100.00\n",
       "num_accts_ever_120_pd             100.00\n",
       "num_actv_bc_tl                    100.00\n",
       "num_actv_rev_tl                   100.00\n",
       "num_bc_sats                       100.00\n",
       "num_bc_tl                         100.00\n",
       "num_il_tl                         100.00\n",
       "num_op_rev_tl                     100.00\n",
       "num_rev_accts                     100.00\n",
       "num_rev_tl_bal_gt_0               100.00\n",
       "num_sats                          100.00\n",
       "num_tl_120dpd_2m                  100.00\n",
       "num_tl_30dpd                      100.00\n",
       "num_tl_90g_dpd_24m                100.00\n",
       "num_tl_op_past_12m                100.00\n",
       "pct_tl_nvr_dlq                    100.00\n",
       "percent_bc_gt_75                  100.00\n",
       "pub_rec_bankruptcies                1.75\n",
       "tax_liens                           0.10\n",
       "tot_hi_cred_lim                   100.00\n",
       "total_bal_ex_mort                 100.00\n",
       "total_bc_limit                    100.00\n",
       "total_il_high_credit_limit        100.00\n",
       "dtype: float64"
      ]
     },
     "execution_count": 5,
     "metadata": {},
     "output_type": "execute_result"
    }
   ],
   "source": [
    "#Getting the percentage of null values in each column\n",
    "#Drop columns with lot of null values as it won't be helpful in our analysis\n",
    "\n",
    "null_values = round(100*(loans.isnull().sum()/len(loans.id)), 2)\n",
    "null_values.loc[null_values > 0]"
   ]
  },
  {
   "cell_type": "markdown",
   "metadata": {},
   "source": [
    "<p>From the above executed statement we can see that we have <b>68 columns with more than 0% null values</b></p>\n",
    "<p>We will not remove all the columns.</p>"
   ]
  },
  {
   "cell_type": "code",
   "execution_count": 6,
   "metadata": {},
   "outputs": [
    {
     "name": "stdout",
     "output_type": "stream",
     "text": [
      "(39717, 53)\n"
     ]
    }
   ],
   "source": [
    "#Removing unnecessary column for analysis\n",
    "null_values_cols = list(null_values[null_values >= 30].index)\n",
    "loans = loans.drop(null_values_cols,axis=1)\n",
    "print(loans.shape)"
   ]
  },
  {
   "cell_type": "markdown",
   "metadata": {},
   "source": [
    "<p>In the above, we are removing all the columns having null values more than 30%</p>\n",
    "<p>But executing the above statement, we have dropped <b>58 columns</b> which will not be useful for our analysis since the null values are very high. We see from the shape of our dataset has now reduced to <b>53 columns</b>.</p>"
   ]
  },
  {
   "cell_type": "code",
   "execution_count": 7,
   "metadata": {},
   "outputs": [
    {
     "data": {
      "text/plain": [
       "emp_title                     6.19\n",
       "emp_length                    2.71\n",
       "title                         0.03\n",
       "revol_util                    0.13\n",
       "last_pymnt_d                  0.18\n",
       "last_credit_pull_d            0.01\n",
       "collections_12_mths_ex_med    0.14\n",
       "chargeoff_within_12_mths      0.14\n",
       "pub_rec_bankruptcies          1.75\n",
       "tax_liens                     0.10\n",
       "dtype: float64"
      ]
     },
     "execution_count": 7,
     "metadata": {},
     "output_type": "execute_result"
    }
   ],
   "source": [
    "missing_remaining = round(100*(loans.isnull().sum()/len(loans.id)), 2)\n",
    "missing_remaining[missing_remaining != 0]\n",
    "#We have narrowed the columns in which data is missing to 10 columns"
   ]
  },
  {
   "cell_type": "markdown",
   "metadata": {},
   "source": [
    "<p>Employee title and employee length are crucial for our analysis. However, these columns include <b>6.19% and 2.71% null values respectively</b> which might distort our analysis. So let's drop the rows where either employee title is null or employee length is null.</p>"
   ]
  },
  {
   "cell_type": "code",
   "execution_count": 8,
   "metadata": {},
   "outputs": [
    {
     "data": {
      "text/plain": [
       "(37202, 53)"
      ]
     },
     "execution_count": 8,
     "metadata": {},
     "output_type": "execute_result"
    }
   ],
   "source": [
    "loans = loans[~loans.emp_title.isnull()]\n",
    "loans = loans[~loans.emp_length.isnull()]\n",
    "loans.shape"
   ]
  },
  {
   "cell_type": "markdown",
   "metadata": {},
   "source": [
    "<p>Now as the case description, there are three types of variables in the dataset</p>\n",
    "<p>1. Application variables</p>\n",
    "<p>2. Loan variables</p>\n",
    "<p>3. Loan Behaviour variables</p>\n",
    "<p>We have to remove all the Loan Behaviour variables since these variables mostly related to after the loan has been approved</p>\n",
    "<p>Following columns have to be removed as per the list given to us:</p>\n",
    "<p><b>delinq_2yrs,earliest_cr_line,inq_last_6mths,open_acc,pub_rec,revol_bal,revol_util,total_acc,out_prncp,out_prncp_inv,total_pymnt,total_pymnt_inv,total_rec_prncp,total_rec_int,total_rec_late_fee,recoveries,collection_recovery_fee,last_pymnt_d,last_pymnt_amnt,last_credit_pull_d,application_type</b></p>"
   ]
  },
  {
   "cell_type": "code",
   "execution_count": 9,
   "metadata": {},
   "outputs": [
    {
     "data": {
      "text/plain": [
       "(37202, 34)"
      ]
     },
     "execution_count": 9,
     "metadata": {},
     "output_type": "execute_result"
    }
   ],
   "source": [
    "loans = loans.drop(['delinq_2yrs','earliest_cr_line','inq_last_6mths','open_acc,pub_rec','revol_bal','revol_util','total_acc','out_prncp','out_prncp_inv','total_pymnt','total_pymnt_inv','total_rec_prncp','total_rec_int','total_rec_late_fee','recoveries','collection_recovery_fee','last_pymnt_d','last_pymnt_amnt','last_credit_pull_d','application_type'], axis=1, errors='ignore')\n",
    "loans.shape"
   ]
  },
  {
   "cell_type": "markdown",
   "metadata": {},
   "source": [
    "<p>We see that <b>19 columns</b> were dropped since they were Loan Behaviour variables.</p>\n",
    "<p><b>IMPORTANT:</b>Please note the all the columns from the above list were not dropped. Some of the columns were dropped earlier when we did null check and dropped columns which were not suitable for analysis.</p>\n",
    "<p>Since the columns were not present, we need to specify the attribute <b>errors=ignore</b></p>"
   ]
  },
  {
   "cell_type": "code",
   "execution_count": 10,
   "metadata": {},
   "outputs": [
    {
     "data": {
      "text/plain": [
       "title                         0.02\n",
       "collections_12_mths_ex_med    0.13\n",
       "chargeoff_within_12_mths      0.13\n",
       "pub_rec_bankruptcies          1.76\n",
       "tax_liens                     0.09\n",
       "dtype: float64"
      ]
     },
     "execution_count": 10,
     "metadata": {},
     "output_type": "execute_result"
    }
   ],
   "source": [
    "missing_remaining1 = round(100*(loans.isnull().sum()/len(loans.id)), 2)\n",
    "missing_remaining1[missing_remaining1 != 0]"
   ]
  },
  {
   "cell_type": "markdown",
   "metadata": {},
   "source": [
    "<p>For the above columns let us analyze the type of variable</p>"
   ]
  },
  {
   "cell_type": "code",
   "execution_count": 11,
   "metadata": {},
   "outputs": [
    {
     "name": "stdout",
     "output_type": "stream",
     "text": [
      "Collections_12_mths_ex_med: [ 0. nan]\n",
      "0.0    37155 \n",
      "\n",
      "Chargeoff_within_12_mths: [ 0. nan]\n",
      "0.0    37155 \n",
      "\n",
      "Pub_rec_bankruptcies: [ 0.  1.  2. nan]\n",
      "0.0    35039\n",
      "1.0     1502\n",
      "2.0        7 \n",
      "\n",
      "Tax_liens: [ 0. nan]\n",
      "0.0    37170 \n",
      "\n"
     ]
    }
   ],
   "source": [
    "#Printing the number of the unique values along with count for each of the above column\n",
    "print(\"Collections_12_mths_ex_med:\",loans.collections_12_mths_ex_med.unique())\n",
    "print(loans.collections_12_mths_ex_med.value_counts().to_string(),\"\\n\")\n",
    "\n",
    "print(\"Chargeoff_within_12_mths:\",loans.chargeoff_within_12_mths.unique())\n",
    "print(loans.chargeoff_within_12_mths.value_counts().to_string(),\"\\n\")\n",
    "\n",
    "print(\"Pub_rec_bankruptcies:\",loans.pub_rec_bankruptcies.unique())\n",
    "print(loans.pub_rec_bankruptcies.value_counts().to_string(),\"\\n\")\n",
    "\n",
    "print(\"Tax_liens:\",loans.tax_liens.unique())\n",
    "print(loans.tax_liens.value_counts().to_string(),\"\\n\")"
   ]
  },
  {
   "cell_type": "markdown",
   "metadata": {},
   "source": [
    "<p>These are all categorical variables.</p>\n",
    "<p>Now since the values in column <b>Collections_12_mths_ex_med, Chargeoff_within_12_mths, Tax_liens</b> is 0 or NaN. Hence we are going to drop all the columns since this column will not have impact on our analysis.</p>\n",
    "<p>For variable <b>Pub_rec_bankruptcies</b> we are going to replace the null values by the central tendency. In this case, mode is the clear representation of the variable. Hence we are going to replace the null values by 0.</p>"
   ]
  },
  {
   "cell_type": "code",
   "execution_count": 12,
   "metadata": {},
   "outputs": [
    {
     "name": "stdout",
     "output_type": "stream",
     "text": [
      "Pub_rec_bankruptcies: [0. 1. 2.]\n",
      "0.0    35693\n",
      "1.0     1502\n",
      "2.0        7 \n",
      "\n"
     ]
    },
    {
     "data": {
      "text/plain": [
       "(37202, 31)"
      ]
     },
     "execution_count": 12,
     "metadata": {},
     "output_type": "execute_result"
    }
   ],
   "source": [
    "loans = loans.drop(['collections_12_mths_ex_med','chargeoff_within_12_mths','tax_liens'], axis=1)\n",
    "loans.pub_rec_bankruptcies.fillna(loans.pub_rec_bankruptcies.mode()[0], inplace=True)\n",
    "print(\"Pub_rec_bankruptcies:\",loans.pub_rec_bankruptcies.unique())\n",
    "print(loans.pub_rec_bankruptcies.value_counts().to_string(),\"\\n\")\n",
    "loans.shape"
   ]
  },
  {
   "cell_type": "code",
   "execution_count": 13,
   "metadata": {},
   "outputs": [
    {
     "data": {
      "text/plain": [
       "1        11\n",
       "3        11\n",
       "4        11\n",
       "5        11\n",
       "6        11\n",
       "         ..\n",
       "39710     7\n",
       "39711     7\n",
       "39712     7\n",
       "39713     7\n",
       "39716     7\n",
       "Name: issued, Length: 37202, dtype: int64"
      ]
     },
     "execution_count": 13,
     "metadata": {},
     "output_type": "execute_result"
    }
   ],
   "source": [
    "loans['term']=loans['term'].astype(str).str.strip('').str[0:3]\n",
    "loans['term'].head()\n",
    "loans['term']=loans['term'].astype(int)\n",
    "loans['issued']=loans['issue_d'].str.split('-').str[1]\n",
    "loans['issued'].astype(int)"
   ]
  },
  {
   "cell_type": "markdown",
   "metadata": {},
   "source": [
    "<p>Finally, before we start our analysis we need to filter the rows such that it includes only values without <b>current</b> status</p>"
   ]
  },
  {
   "cell_type": "code",
   "execution_count": 14,
   "metadata": {},
   "outputs": [
    {
     "data": {
      "text/plain": [
       "(36136, 32)"
      ]
     },
     "execution_count": 14,
     "metadata": {},
     "output_type": "execute_result"
    }
   ],
   "source": [
    "loans = loans.loc[loans['loan_status'] != \"Current\"]\n",
    "loans.shape"
   ]
  },
  {
   "cell_type": "markdown",
   "metadata": {},
   "source": [
    "<h3>END OF DATA CLEANING</h3>\n",
    "<p>We are done with the data cleaning part and now head on to the analysis part.</p>\n",
    "<h3>ANALYSIS - START</h3>"
   ]
  },
  {
   "cell_type": "code",
   "execution_count": 15,
   "metadata": {},
   "outputs": [
    {
     "name": "stderr",
     "output_type": "stream",
     "text": [
      "/var/folders/9l/0smmfnq15wz5kjnklghcmhvh0000gn/T/ipykernel_9031/2554622990.py:3: FutureWarning: The default value of numeric_only in DataFrame.corr is deprecated. In a future version, it will default to False. Select only valid columns or specify the value of numeric_only to silence this warning.\n",
      "  loans.corr()\n"
     ]
    },
    {
     "data": {
      "text/html": [
       "<div>\n",
       "<style scoped>\n",
       "    .dataframe tbody tr th:only-of-type {\n",
       "        vertical-align: middle;\n",
       "    }\n",
       "\n",
       "    .dataframe tbody tr th {\n",
       "        vertical-align: top;\n",
       "    }\n",
       "\n",
       "    .dataframe thead th {\n",
       "        text-align: right;\n",
       "    }\n",
       "</style>\n",
       "<table border=\"1\" class=\"dataframe\">\n",
       "  <thead>\n",
       "    <tr style=\"text-align: right;\">\n",
       "      <th></th>\n",
       "      <th>id</th>\n",
       "      <th>member_id</th>\n",
       "      <th>loan_amnt</th>\n",
       "      <th>funded_amnt</th>\n",
       "      <th>funded_amnt_inv</th>\n",
       "      <th>term</th>\n",
       "      <th>int_rate</th>\n",
       "      <th>installment</th>\n",
       "      <th>annual_inc</th>\n",
       "      <th>dti</th>\n",
       "      <th>open_acc</th>\n",
       "      <th>pub_rec</th>\n",
       "      <th>policy_code</th>\n",
       "      <th>acc_now_delinq</th>\n",
       "      <th>delinq_amnt</th>\n",
       "      <th>pub_rec_bankruptcies</th>\n",
       "    </tr>\n",
       "  </thead>\n",
       "  <tbody>\n",
       "    <tr>\n",
       "      <th>id</th>\n",
       "      <td>1.000000</td>\n",
       "      <td>0.993500</td>\n",
       "      <td>0.123246</td>\n",
       "      <td>0.134316</td>\n",
       "      <td>0.236651</td>\n",
       "      <td>0.179689</td>\n",
       "      <td>0.057957</td>\n",
       "      <td>0.078341</td>\n",
       "      <td>0.007793</td>\n",
       "      <td>0.090075</td>\n",
       "      <td>0.018296</td>\n",
       "      <td>-0.020243</td>\n",
       "      <td>NaN</td>\n",
       "      <td>NaN</td>\n",
       "      <td>NaN</td>\n",
       "      <td>-0.000923</td>\n",
       "    </tr>\n",
       "    <tr>\n",
       "      <th>member_id</th>\n",
       "      <td>0.993500</td>\n",
       "      <td>1.000000</td>\n",
       "      <td>0.123398</td>\n",
       "      <td>0.133711</td>\n",
       "      <td>0.246925</td>\n",
       "      <td>0.198558</td>\n",
       "      <td>0.054959</td>\n",
       "      <td>0.073397</td>\n",
       "      <td>0.008984</td>\n",
       "      <td>0.091414</td>\n",
       "      <td>0.015829</td>\n",
       "      <td>-0.020067</td>\n",
       "      <td>NaN</td>\n",
       "      <td>NaN</td>\n",
       "      <td>NaN</td>\n",
       "      <td>-0.000105</td>\n",
       "    </tr>\n",
       "    <tr>\n",
       "      <th>loan_amnt</th>\n",
       "      <td>0.123246</td>\n",
       "      <td>0.123398</td>\n",
       "      <td>1.000000</td>\n",
       "      <td>0.981602</td>\n",
       "      <td>0.936210</td>\n",
       "      <td>0.348215</td>\n",
       "      <td>0.298697</td>\n",
       "      <td>0.931293</td>\n",
       "      <td>0.255517</td>\n",
       "      <td>0.063912</td>\n",
       "      <td>0.174405</td>\n",
       "      <td>-0.046677</td>\n",
       "      <td>NaN</td>\n",
       "      <td>NaN</td>\n",
       "      <td>NaN</td>\n",
       "      <td>-0.029968</td>\n",
       "    </tr>\n",
       "    <tr>\n",
       "      <th>funded_amnt</th>\n",
       "      <td>0.134316</td>\n",
       "      <td>0.133711</td>\n",
       "      <td>0.981602</td>\n",
       "      <td>1.000000</td>\n",
       "      <td>0.954652</td>\n",
       "      <td>0.326833</td>\n",
       "      <td>0.303065</td>\n",
       "      <td>0.957230</td>\n",
       "      <td>0.251024</td>\n",
       "      <td>0.063947</td>\n",
       "      <td>0.172857</td>\n",
       "      <td>-0.047395</td>\n",
       "      <td>NaN</td>\n",
       "      <td>NaN</td>\n",
       "      <td>NaN</td>\n",
       "      <td>-0.031234</td>\n",
       "    </tr>\n",
       "    <tr>\n",
       "      <th>funded_amnt_inv</th>\n",
       "      <td>0.236651</td>\n",
       "      <td>0.246925</td>\n",
       "      <td>0.936210</td>\n",
       "      <td>0.954652</td>\n",
       "      <td>1.000000</td>\n",
       "      <td>0.346952</td>\n",
       "      <td>0.295665</td>\n",
       "      <td>0.902552</td>\n",
       "      <td>0.238454</td>\n",
       "      <td>0.072976</td>\n",
       "      <td>0.159972</td>\n",
       "      <td>-0.049260</td>\n",
       "      <td>NaN</td>\n",
       "      <td>NaN</td>\n",
       "      <td>NaN</td>\n",
       "      <td>-0.032388</td>\n",
       "    </tr>\n",
       "    <tr>\n",
       "      <th>term</th>\n",
       "      <td>0.179689</td>\n",
       "      <td>0.198558</td>\n",
       "      <td>0.348215</td>\n",
       "      <td>0.326833</td>\n",
       "      <td>0.346952</td>\n",
       "      <td>1.000000</td>\n",
       "      <td>0.441600</td>\n",
       "      <td>0.089815</td>\n",
       "      <td>0.044973</td>\n",
       "      <td>0.077074</td>\n",
       "      <td>0.044185</td>\n",
       "      <td>0.012515</td>\n",
       "      <td>NaN</td>\n",
       "      <td>NaN</td>\n",
       "      <td>NaN</td>\n",
       "      <td>0.020799</td>\n",
       "    </tr>\n",
       "    <tr>\n",
       "      <th>int_rate</th>\n",
       "      <td>0.057957</td>\n",
       "      <td>0.054959</td>\n",
       "      <td>0.298697</td>\n",
       "      <td>0.303065</td>\n",
       "      <td>0.295665</td>\n",
       "      <td>0.441600</td>\n",
       "      <td>1.000000</td>\n",
       "      <td>0.274524</td>\n",
       "      <td>0.045486</td>\n",
       "      <td>0.114364</td>\n",
       "      <td>0.007798</td>\n",
       "      <td>0.099717</td>\n",
       "      <td>NaN</td>\n",
       "      <td>NaN</td>\n",
       "      <td>NaN</td>\n",
       "      <td>0.084701</td>\n",
       "    </tr>\n",
       "    <tr>\n",
       "      <th>installment</th>\n",
       "      <td>0.078341</td>\n",
       "      <td>0.073397</td>\n",
       "      <td>0.931293</td>\n",
       "      <td>0.957230</td>\n",
       "      <td>0.902552</td>\n",
       "      <td>0.089815</td>\n",
       "      <td>0.274524</td>\n",
       "      <td>1.000000</td>\n",
       "      <td>0.252474</td>\n",
       "      <td>0.054221</td>\n",
       "      <td>0.170913</td>\n",
       "      <td>-0.042851</td>\n",
       "      <td>NaN</td>\n",
       "      <td>NaN</td>\n",
       "      <td>NaN</td>\n",
       "      <td>-0.028655</td>\n",
       "    </tr>\n",
       "    <tr>\n",
       "      <th>annual_inc</th>\n",
       "      <td>0.007793</td>\n",
       "      <td>0.008984</td>\n",
       "      <td>0.255517</td>\n",
       "      <td>0.251024</td>\n",
       "      <td>0.238454</td>\n",
       "      <td>0.044973</td>\n",
       "      <td>0.045486</td>\n",
       "      <td>0.252474</td>\n",
       "      <td>1.000000</td>\n",
       "      <td>-0.120770</td>\n",
       "      <td>0.153472</td>\n",
       "      <td>-0.013777</td>\n",
       "      <td>NaN</td>\n",
       "      <td>NaN</td>\n",
       "      <td>NaN</td>\n",
       "      <td>-0.010699</td>\n",
       "    </tr>\n",
       "    <tr>\n",
       "      <th>dti</th>\n",
       "      <td>0.090075</td>\n",
       "      <td>0.091414</td>\n",
       "      <td>0.063912</td>\n",
       "      <td>0.063947</td>\n",
       "      <td>0.072976</td>\n",
       "      <td>0.077074</td>\n",
       "      <td>0.114364</td>\n",
       "      <td>0.054221</td>\n",
       "      <td>-0.120770</td>\n",
       "      <td>1.000000</td>\n",
       "      <td>0.289386</td>\n",
       "      <td>-0.005413</td>\n",
       "      <td>NaN</td>\n",
       "      <td>NaN</td>\n",
       "      <td>NaN</td>\n",
       "      <td>0.007914</td>\n",
       "    </tr>\n",
       "    <tr>\n",
       "      <th>open_acc</th>\n",
       "      <td>0.018296</td>\n",
       "      <td>0.015829</td>\n",
       "      <td>0.174405</td>\n",
       "      <td>0.172857</td>\n",
       "      <td>0.159972</td>\n",
       "      <td>0.044185</td>\n",
       "      <td>0.007798</td>\n",
       "      <td>0.170913</td>\n",
       "      <td>0.153472</td>\n",
       "      <td>0.289386</td>\n",
       "      <td>1.000000</td>\n",
       "      <td>0.002800</td>\n",
       "      <td>NaN</td>\n",
       "      <td>NaN</td>\n",
       "      <td>NaN</td>\n",
       "      <td>0.009682</td>\n",
       "    </tr>\n",
       "    <tr>\n",
       "      <th>pub_rec</th>\n",
       "      <td>-0.020243</td>\n",
       "      <td>-0.020067</td>\n",
       "      <td>-0.046677</td>\n",
       "      <td>-0.047395</td>\n",
       "      <td>-0.049260</td>\n",
       "      <td>0.012515</td>\n",
       "      <td>0.099717</td>\n",
       "      <td>-0.042851</td>\n",
       "      <td>-0.013777</td>\n",
       "      <td>-0.005413</td>\n",
       "      <td>0.002800</td>\n",
       "      <td>1.000000</td>\n",
       "      <td>NaN</td>\n",
       "      <td>NaN</td>\n",
       "      <td>NaN</td>\n",
       "      <td>0.835193</td>\n",
       "    </tr>\n",
       "    <tr>\n",
       "      <th>policy_code</th>\n",
       "      <td>NaN</td>\n",
       "      <td>NaN</td>\n",
       "      <td>NaN</td>\n",
       "      <td>NaN</td>\n",
       "      <td>NaN</td>\n",
       "      <td>NaN</td>\n",
       "      <td>NaN</td>\n",
       "      <td>NaN</td>\n",
       "      <td>NaN</td>\n",
       "      <td>NaN</td>\n",
       "      <td>NaN</td>\n",
       "      <td>NaN</td>\n",
       "      <td>NaN</td>\n",
       "      <td>NaN</td>\n",
       "      <td>NaN</td>\n",
       "      <td>NaN</td>\n",
       "    </tr>\n",
       "    <tr>\n",
       "      <th>acc_now_delinq</th>\n",
       "      <td>NaN</td>\n",
       "      <td>NaN</td>\n",
       "      <td>NaN</td>\n",
       "      <td>NaN</td>\n",
       "      <td>NaN</td>\n",
       "      <td>NaN</td>\n",
       "      <td>NaN</td>\n",
       "      <td>NaN</td>\n",
       "      <td>NaN</td>\n",
       "      <td>NaN</td>\n",
       "      <td>NaN</td>\n",
       "      <td>NaN</td>\n",
       "      <td>NaN</td>\n",
       "      <td>NaN</td>\n",
       "      <td>NaN</td>\n",
       "      <td>NaN</td>\n",
       "    </tr>\n",
       "    <tr>\n",
       "      <th>delinq_amnt</th>\n",
       "      <td>NaN</td>\n",
       "      <td>NaN</td>\n",
       "      <td>NaN</td>\n",
       "      <td>NaN</td>\n",
       "      <td>NaN</td>\n",
       "      <td>NaN</td>\n",
       "      <td>NaN</td>\n",
       "      <td>NaN</td>\n",
       "      <td>NaN</td>\n",
       "      <td>NaN</td>\n",
       "      <td>NaN</td>\n",
       "      <td>NaN</td>\n",
       "      <td>NaN</td>\n",
       "      <td>NaN</td>\n",
       "      <td>NaN</td>\n",
       "      <td>NaN</td>\n",
       "    </tr>\n",
       "    <tr>\n",
       "      <th>pub_rec_bankruptcies</th>\n",
       "      <td>-0.000923</td>\n",
       "      <td>-0.000105</td>\n",
       "      <td>-0.029968</td>\n",
       "      <td>-0.031234</td>\n",
       "      <td>-0.032388</td>\n",
       "      <td>0.020799</td>\n",
       "      <td>0.084701</td>\n",
       "      <td>-0.028655</td>\n",
       "      <td>-0.010699</td>\n",
       "      <td>0.007914</td>\n",
       "      <td>0.009682</td>\n",
       "      <td>0.835193</td>\n",
       "      <td>NaN</td>\n",
       "      <td>NaN</td>\n",
       "      <td>NaN</td>\n",
       "      <td>1.000000</td>\n",
       "    </tr>\n",
       "  </tbody>\n",
       "</table>\n",
       "</div>"
      ],
      "text/plain": [
       "                            id  member_id  loan_amnt  funded_amnt  \\\n",
       "id                    1.000000   0.993500   0.123246     0.134316   \n",
       "member_id             0.993500   1.000000   0.123398     0.133711   \n",
       "loan_amnt             0.123246   0.123398   1.000000     0.981602   \n",
       "funded_amnt           0.134316   0.133711   0.981602     1.000000   \n",
       "funded_amnt_inv       0.236651   0.246925   0.936210     0.954652   \n",
       "term                  0.179689   0.198558   0.348215     0.326833   \n",
       "int_rate              0.057957   0.054959   0.298697     0.303065   \n",
       "installment           0.078341   0.073397   0.931293     0.957230   \n",
       "annual_inc            0.007793   0.008984   0.255517     0.251024   \n",
       "dti                   0.090075   0.091414   0.063912     0.063947   \n",
       "open_acc              0.018296   0.015829   0.174405     0.172857   \n",
       "pub_rec              -0.020243  -0.020067  -0.046677    -0.047395   \n",
       "policy_code                NaN        NaN        NaN          NaN   \n",
       "acc_now_delinq             NaN        NaN        NaN          NaN   \n",
       "delinq_amnt                NaN        NaN        NaN          NaN   \n",
       "pub_rec_bankruptcies -0.000923  -0.000105  -0.029968    -0.031234   \n",
       "\n",
       "                      funded_amnt_inv      term  int_rate  installment  \\\n",
       "id                           0.236651  0.179689  0.057957     0.078341   \n",
       "member_id                    0.246925  0.198558  0.054959     0.073397   \n",
       "loan_amnt                    0.936210  0.348215  0.298697     0.931293   \n",
       "funded_amnt                  0.954652  0.326833  0.303065     0.957230   \n",
       "funded_amnt_inv              1.000000  0.346952  0.295665     0.902552   \n",
       "term                         0.346952  1.000000  0.441600     0.089815   \n",
       "int_rate                     0.295665  0.441600  1.000000     0.274524   \n",
       "installment                  0.902552  0.089815  0.274524     1.000000   \n",
       "annual_inc                   0.238454  0.044973  0.045486     0.252474   \n",
       "dti                          0.072976  0.077074  0.114364     0.054221   \n",
       "open_acc                     0.159972  0.044185  0.007798     0.170913   \n",
       "pub_rec                     -0.049260  0.012515  0.099717    -0.042851   \n",
       "policy_code                       NaN       NaN       NaN          NaN   \n",
       "acc_now_delinq                    NaN       NaN       NaN          NaN   \n",
       "delinq_amnt                       NaN       NaN       NaN          NaN   \n",
       "pub_rec_bankruptcies        -0.032388  0.020799  0.084701    -0.028655   \n",
       "\n",
       "                      annual_inc       dti  open_acc   pub_rec  policy_code  \\\n",
       "id                      0.007793  0.090075  0.018296 -0.020243          NaN   \n",
       "member_id               0.008984  0.091414  0.015829 -0.020067          NaN   \n",
       "loan_amnt               0.255517  0.063912  0.174405 -0.046677          NaN   \n",
       "funded_amnt             0.251024  0.063947  0.172857 -0.047395          NaN   \n",
       "funded_amnt_inv         0.238454  0.072976  0.159972 -0.049260          NaN   \n",
       "term                    0.044973  0.077074  0.044185  0.012515          NaN   \n",
       "int_rate                0.045486  0.114364  0.007798  0.099717          NaN   \n",
       "installment             0.252474  0.054221  0.170913 -0.042851          NaN   \n",
       "annual_inc              1.000000 -0.120770  0.153472 -0.013777          NaN   \n",
       "dti                    -0.120770  1.000000  0.289386 -0.005413          NaN   \n",
       "open_acc                0.153472  0.289386  1.000000  0.002800          NaN   \n",
       "pub_rec                -0.013777 -0.005413  0.002800  1.000000          NaN   \n",
       "policy_code                  NaN       NaN       NaN       NaN          NaN   \n",
       "acc_now_delinq               NaN       NaN       NaN       NaN          NaN   \n",
       "delinq_amnt                  NaN       NaN       NaN       NaN          NaN   \n",
       "pub_rec_bankruptcies   -0.010699  0.007914  0.009682  0.835193          NaN   \n",
       "\n",
       "                      acc_now_delinq  delinq_amnt  pub_rec_bankruptcies  \n",
       "id                               NaN          NaN             -0.000923  \n",
       "member_id                        NaN          NaN             -0.000105  \n",
       "loan_amnt                        NaN          NaN             -0.029968  \n",
       "funded_amnt                      NaN          NaN             -0.031234  \n",
       "funded_amnt_inv                  NaN          NaN             -0.032388  \n",
       "term                             NaN          NaN              0.020799  \n",
       "int_rate                         NaN          NaN              0.084701  \n",
       "installment                      NaN          NaN             -0.028655  \n",
       "annual_inc                       NaN          NaN             -0.010699  \n",
       "dti                              NaN          NaN              0.007914  \n",
       "open_acc                         NaN          NaN              0.009682  \n",
       "pub_rec                          NaN          NaN              0.835193  \n",
       "policy_code                      NaN          NaN                   NaN  \n",
       "acc_now_delinq                   NaN          NaN                   NaN  \n",
       "delinq_amnt                      NaN          NaN                   NaN  \n",
       "pub_rec_bankruptcies             NaN          NaN              1.000000  "
      ]
     },
     "execution_count": 15,
     "metadata": {},
     "output_type": "execute_result"
    }
   ],
   "source": [
    "#Finding the correlation between the different columns of the dataset\n",
    "#Using the corr function in pandas\n",
    "loans.corr()"
   ]
  },
  {
   "cell_type": "code",
   "execution_count": 16,
   "metadata": {},
   "outputs": [
    {
     "data": {
      "image/png": "[encoded data removed]",
      "text/plain": [
       "<Figure size 1500x1000 with 2 Axes>"
      ]
     },
     "metadata": {},
     "output_type": "display_data"
    }
   ],
   "source": [
    "plt.figure(figsize=(15,10))\n",
    "ax = sns.heatmap(loans[['annual_inc','loan_amnt','int_rate','funded_amnt','funded_amnt_inv','installment']].corr(), cmap=\"YlGnBu\", annot = True)\n",
    "bottom, top = ax.get_ylim()\n",
    "ax.set_ylim(bottom + 0.5, top - 0.5)\n",
    "plt.show()"
   ]
  },
  {
   "cell_type": "code",
   "execution_count": 17,
   "metadata": {},
   "outputs": [
    {
     "data": {
      "text/plain": [
       "count    36136.000000\n",
       "mean        11.968718\n",
       "std          3.684652\n",
       "min          5.420000\n",
       "25%          9.010000\n",
       "50%         11.830000\n",
       "75%         14.420000\n",
       "max         24.400000\n",
       "Name: int_rate, dtype: float64"
      ]
     },
     "execution_count": 17,
     "metadata": {},
     "output_type": "execute_result"
    }
   ],
   "source": [
    "loans['int_rate'].describe()"
   ]
  },
  {
   "cell_type": "code",
   "execution_count": 18,
   "metadata": {},
   "outputs": [
    {
     "data": {
      "text/plain": [
       "(36136, 32)"
      ]
     },
     "execution_count": 18,
     "metadata": {},
     "output_type": "execute_result"
    },
    {
     "data": {
      "image/png": "[encoded data removed]",
      "text/plain": [
       "<Figure size 1000x2000 with 1 Axes>"
      ]
     },
     "metadata": {},
     "output_type": "display_data"
    }
   ],
   "source": [
    "#We are plotting the purpose against the default rate\n",
    "freq_rnkcnt_rate=(loans[loans['loan_status']!=\"Current\"].groupby(['purpose','loan_status']).loan_status.count()/loans[loans['loan_status']!=\"Current\"].groupby(['purpose']).loan_status.count())*100\n",
    "freq_rnkcnt_rate=pd.DataFrame(freq_rnkcnt_rate)\n",
    "freq_rnkcnt_rate.dropna(inplace=True,axis=0)\n",
    "\n",
    "freq_rnkcnt_rate.rename(columns={\"loan_status\":\"Default Rate\"},inplace=True)\n",
    "freq_rnkcnt_rate=pd.DataFrame(freq_rnkcnt_rate.to_records())\n",
    "freq_rnkcnt_rate.sort_values(by=\"Default Rate\",inplace=True,ascending=False)\n",
    "plt.figure(figsize=(10,20))\n",
    "sns.barplot(x=\"Default Rate\",y=\"purpose\",data=freq_rnkcnt_rate,hue=\"loan_status\")\n",
    "loans.shape"
   ]
  },
  {
   "cell_type": "code",
   "execution_count": 19,
   "metadata": {},
   "outputs": [],
   "source": [
    "#In the below graph let us plot purpose against default rate\n",
    "freq_rnkcnt=loans[loans['loan_status']!=\"Current\"].groupby(['purpose','loan_status']).loan_status.count()\n",
    "freq_rnkcnt=pd.DataFrame(freq_rnkcnt)\n",
    "freq_rnkcnt.dropna(inplace=True,axis=0)\n",
    "\n",
    "freq_rnkcnt.rename(columns={\"loan_status\":\"Default Rate\"},inplace=True)\n",
    "freq_rnkcnt=pd.DataFrame(freq_rnkcnt.to_records())\n",
    "freq_rnkcnt.sort_values(by=\"Default Rate\",inplace=True,ascending=False)"
   ]
  },
  {
   "cell_type": "code",
   "execution_count": 20,
   "metadata": {},
   "outputs": [
    {
     "data": {
      "text/plain": [
       "<AxesSubplot: xlabel='Default Rate', ylabel='purpose'>"
      ]
     },
     "execution_count": 20,
     "metadata": {},
     "output_type": "execute_result"
    },
    {
     "data": {
      "image/png": "[encoded data removed]",
      "text/plain": [
       "<Figure size 1000x2000 with 1 Axes>"
      ]
     },
     "metadata": {},
     "output_type": "display_data"
    }
   ],
   "source": [
    "plt.figure(figsize=(10,20))\n",
    "sns.barplot(x=\"Default Rate\",y=\"purpose\",data=freq_rnkcnt,hue=\"loan_status\")"
   ]
  },
  {
   "cell_type": "code",
   "execution_count": 21,
   "metadata": {},
   "outputs": [
    {
     "data": {
      "text/html": [
       "<div>\n",
       "<style scoped>\n",
       "    .dataframe tbody tr th:only-of-type {\n",
       "        vertical-align: middle;\n",
       "    }\n",
       "\n",
       "    .dataframe tbody tr th {\n",
       "        vertical-align: top;\n",
       "    }\n",
       "\n",
       "    .dataframe thead th {\n",
       "        text-align: right;\n",
       "    }\n",
       "</style>\n",
       "<table border=\"1\" class=\"dataframe\">\n",
       "  <thead>\n",
       "    <tr style=\"text-align: right;\">\n",
       "      <th></th>\n",
       "      <th></th>\n",
       "      <th>count</th>\n",
       "    </tr>\n",
       "    <tr>\n",
       "      <th>term</th>\n",
       "      <th>loan_status</th>\n",
       "      <th></th>\n",
       "    </tr>\n",
       "  </thead>\n",
       "  <tbody>\n",
       "    <tr>\n",
       "      <th>36</th>\n",
       "      <th>Charged Off</th>\n",
       "      <td>2899</td>\n",
       "    </tr>\n",
       "    <tr>\n",
       "      <th>60</th>\n",
       "      <th>Charged Off</th>\n",
       "      <td>2232</td>\n",
       "    </tr>\n",
       "  </tbody>\n",
       "</table>\n",
       "</div>"
      ],
      "text/plain": [
       "                  count\n",
       "term loan_status       \n",
       "36   Charged Off   2899\n",
       "60   Charged Off   2232"
      ]
     },
     "execution_count": 21,
     "metadata": {},
     "output_type": "execute_result"
    }
   ],
   "source": [
    "#Let's understand the correlation between the loan status and term here \n",
    "freq_rnkcnt_term=loans[loans['loan_status']==\"Charged Off\"].groupby(['term','loan_status']).loan_status.count()\n",
    "\n",
    "freq_rnkcnt_term=pd.DataFrame(freq_rnkcnt_term)\n",
    "freq_rnkcnt_term.rename(columns={\"loan_status\":\"count\"},inplace=True)\n",
    "freq_rnkcnt_term"
   ]
  },
  {
   "cell_type": "markdown",
   "metadata": {},
   "source": [
    "<p>We can see that when the loan terms are higher, the default count has reduced.</p>"
   ]
  },
  {
   "cell_type": "code",
   "execution_count": 22,
   "metadata": {},
   "outputs": [
    {
     "data": {
      "text/html": [
       "<div>\n",
       "<style scoped>\n",
       "    .dataframe tbody tr th:only-of-type {\n",
       "        vertical-align: middle;\n",
       "    }\n",
       "\n",
       "    .dataframe tbody tr th {\n",
       "        vertical-align: top;\n",
       "    }\n",
       "\n",
       "    .dataframe thead th {\n",
       "        text-align: right;\n",
       "    }\n",
       "</style>\n",
       "<table border=\"1\" class=\"dataframe\">\n",
       "  <thead>\n",
       "    <tr style=\"text-align: right;\">\n",
       "      <th></th>\n",
       "      <th>grade</th>\n",
       "      <th>loan_status</th>\n",
       "      <th>Percentage</th>\n",
       "    </tr>\n",
       "  </thead>\n",
       "  <tbody>\n",
       "    <tr>\n",
       "      <th>12</th>\n",
       "      <td>G</td>\n",
       "      <td>Charged Off</td>\n",
       "      <td>33.680556</td>\n",
       "    </tr>\n",
       "    <tr>\n",
       "      <th>13</th>\n",
       "      <td>G</td>\n",
       "      <td>Fully Paid</td>\n",
       "      <td>66.319444</td>\n",
       "    </tr>\n",
       "    <tr>\n",
       "      <th>10</th>\n",
       "      <td>F</td>\n",
       "      <td>Charged Off</td>\n",
       "      <td>31.887202</td>\n",
       "    </tr>\n",
       "    <tr>\n",
       "      <th>11</th>\n",
       "      <td>F</td>\n",
       "      <td>Fully Paid</td>\n",
       "      <td>68.112798</td>\n",
       "    </tr>\n",
       "    <tr>\n",
       "      <th>8</th>\n",
       "      <td>E</td>\n",
       "      <td>Charged Off</td>\n",
       "      <td>26.450849</td>\n",
       "    </tr>\n",
       "    <tr>\n",
       "      <th>9</th>\n",
       "      <td>E</td>\n",
       "      <td>Fully Paid</td>\n",
       "      <td>73.549151</td>\n",
       "    </tr>\n",
       "    <tr>\n",
       "      <th>6</th>\n",
       "      <td>D</td>\n",
       "      <td>Charged Off</td>\n",
       "      <td>21.382469</td>\n",
       "    </tr>\n",
       "    <tr>\n",
       "      <th>7</th>\n",
       "      <td>D</td>\n",
       "      <td>Fully Paid</td>\n",
       "      <td>78.617531</td>\n",
       "    </tr>\n",
       "    <tr>\n",
       "      <th>4</th>\n",
       "      <td>C</td>\n",
       "      <td>Charged Off</td>\n",
       "      <td>16.592232</td>\n",
       "    </tr>\n",
       "    <tr>\n",
       "      <th>5</th>\n",
       "      <td>C</td>\n",
       "      <td>Fully Paid</td>\n",
       "      <td>83.407768</td>\n",
       "    </tr>\n",
       "    <tr>\n",
       "      <th>2</th>\n",
       "      <td>B</td>\n",
       "      <td>Charged Off</td>\n",
       "      <td>11.827662</td>\n",
       "    </tr>\n",
       "    <tr>\n",
       "      <th>3</th>\n",
       "      <td>B</td>\n",
       "      <td>Fully Paid</td>\n",
       "      <td>88.172338</td>\n",
       "    </tr>\n",
       "    <tr>\n",
       "      <th>0</th>\n",
       "      <td>A</td>\n",
       "      <td>Charged Off</td>\n",
       "      <td>5.653253</td>\n",
       "    </tr>\n",
       "    <tr>\n",
       "      <th>1</th>\n",
       "      <td>A</td>\n",
       "      <td>Fully Paid</td>\n",
       "      <td>94.346747</td>\n",
       "    </tr>\n",
       "  </tbody>\n",
       "</table>\n",
       "</div>"
      ],
      "text/plain": [
       "   grade  loan_status  Percentage\n",
       "12     G  Charged Off   33.680556\n",
       "13     G   Fully Paid   66.319444\n",
       "10     F  Charged Off   31.887202\n",
       "11     F   Fully Paid   68.112798\n",
       "8      E  Charged Off   26.450849\n",
       "9      E   Fully Paid   73.549151\n",
       "6      D  Charged Off   21.382469\n",
       "7      D   Fully Paid   78.617531\n",
       "4      C  Charged Off   16.592232\n",
       "5      C   Fully Paid   83.407768\n",
       "2      B  Charged Off   11.827662\n",
       "3      B   Fully Paid   88.172338\n",
       "0      A  Charged Off    5.653253\n",
       "1      A   Fully Paid   94.346747"
      ]
     },
     "execution_count": 22,
     "metadata": {},
     "output_type": "execute_result"
    }
   ],
   "source": [
    "freq_rnkcnt_lc=(loans[(loans['loan_status']!=\"Current\")].groupby(['grade','loan_status']).grade.count()/loans[(loans['loan_status']!=\"Current\")].groupby(['grade']).grade.count())*100\n",
    "freq_rnkcnt_lc=pd.DataFrame(freq_rnkcnt_lc)\n",
    "freq_rnkcnt_lc.dropna(inplace=True,axis=0)\n",
    "freq_rnkcnt_lc.rename(columns={\"grade\":\"Percentage\"},inplace=True)\n",
    "freq_rnkcnt_lc=pd.DataFrame(freq_rnkcnt_lc.to_records())\n",
    "freq_rnkcnt_lc.sort_values(by=\"grade\",inplace=True,ascending=False)\n",
    "freq_rnkcnt_lc"
   ]
  },
  {
   "cell_type": "markdown",
   "metadata": {},
   "source": [
    "<p>From the table above, we see that when grade was A, the percentage of loans that were <b>Fully paid is 94.34%.</b>Thus the lending company should lend more A grade loans.</p>"
   ]
  },
  {
   "cell_type": "code",
   "execution_count": 23,
   "metadata": {},
   "outputs": [
    {
     "data": {
      "text/plain": [
       "<AxesSubplot: xlabel='grade', ylabel='Percentage'>"
      ]
     },
     "execution_count": 23,
     "metadata": {},
     "output_type": "execute_result"
    },
    {
     "data": {
      "image/png": "[encoded data removed]",
      "text/plain": [
       "<Figure size 640x480 with 1 Axes>"
      ]
     },
     "metadata": {},
     "output_type": "display_data"
    }
   ],
   "source": [
    "sns.barplot(x=\"grade\",y=\"Percentage\",data=freq_rnkcnt_lc,hue=\"loan_status\")"
   ]
  },
  {
   "cell_type": "code",
   "execution_count": 24,
   "metadata": {},
   "outputs": [
    {
     "data": {
      "text/html": [
       "<div>\n",
       "<style scoped>\n",
       "    .dataframe tbody tr th:only-of-type {\n",
       "        vertical-align: middle;\n",
       "    }\n",
       "\n",
       "    .dataframe tbody tr th {\n",
       "        vertical-align: top;\n",
       "    }\n",
       "\n",
       "    .dataframe thead th {\n",
       "        text-align: right;\n",
       "    }\n",
       "</style>\n",
       "<table border=\"1\" class=\"dataframe\">\n",
       "  <thead>\n",
       "    <tr style=\"text-align: right;\">\n",
       "      <th></th>\n",
       "      <th>home_ownership</th>\n",
       "      <th>loan_status</th>\n",
       "      <th>Percentage</th>\n",
       "    </tr>\n",
       "  </thead>\n",
       "  <tbody>\n",
       "    <tr>\n",
       "      <th>0</th>\n",
       "      <td>MORTGAGE</td>\n",
       "      <td>Charged Off</td>\n",
       "      <td>13.277774</td>\n",
       "    </tr>\n",
       "    <tr>\n",
       "      <th>4</th>\n",
       "      <td>OWN</td>\n",
       "      <td>Charged Off</td>\n",
       "      <td>14.141414</td>\n",
       "    </tr>\n",
       "    <tr>\n",
       "      <th>6</th>\n",
       "      <td>RENT</td>\n",
       "      <td>Charged Off</td>\n",
       "      <td>15.023421</td>\n",
       "    </tr>\n",
       "    <tr>\n",
       "      <th>2</th>\n",
       "      <td>OTHER</td>\n",
       "      <td>Charged Off</td>\n",
       "      <td>18.750000</td>\n",
       "    </tr>\n",
       "    <tr>\n",
       "      <th>3</th>\n",
       "      <td>OTHER</td>\n",
       "      <td>Fully Paid</td>\n",
       "      <td>81.250000</td>\n",
       "    </tr>\n",
       "    <tr>\n",
       "      <th>7</th>\n",
       "      <td>RENT</td>\n",
       "      <td>Fully Paid</td>\n",
       "      <td>84.976579</td>\n",
       "    </tr>\n",
       "    <tr>\n",
       "      <th>5</th>\n",
       "      <td>OWN</td>\n",
       "      <td>Fully Paid</td>\n",
       "      <td>85.858586</td>\n",
       "    </tr>\n",
       "    <tr>\n",
       "      <th>1</th>\n",
       "      <td>MORTGAGE</td>\n",
       "      <td>Fully Paid</td>\n",
       "      <td>86.722226</td>\n",
       "    </tr>\n",
       "  </tbody>\n",
       "</table>\n",
       "</div>"
      ],
      "text/plain": [
       "  home_ownership  loan_status  Percentage\n",
       "0       MORTGAGE  Charged Off   13.277774\n",
       "4            OWN  Charged Off   14.141414\n",
       "6           RENT  Charged Off   15.023421\n",
       "2          OTHER  Charged Off   18.750000\n",
       "3          OTHER   Fully Paid   81.250000\n",
       "7           RENT   Fully Paid   84.976579\n",
       "5            OWN   Fully Paid   85.858586\n",
       "1       MORTGAGE   Fully Paid   86.722226"
      ]
     },
     "execution_count": 24,
     "metadata": {},
     "output_type": "execute_result"
    },
    {
     "data": {
      "image/png": "[encoded data removed]",
      "text/plain": [
       "<Figure size 640x480 with 1 Axes>"
      ]
     },
     "metadata": {},
     "output_type": "display_data"
    }
   ],
   "source": [
    "#Plotting the correlation between the home ownership and loan status\n",
    "loans1 = loans.loc[loans['home_ownership']!=\"NONE\"]\n",
    "freq_rnkcnt_ownership=loans1[(loans1['loan_status']!=\"Current\")].groupby(['home_ownership','loan_status']).loan_status.count()*100/loans1[(loans1['loan_status']!=\"Current\")].groupby(['home_ownership']).loan_status.count()\n",
    "freq_rnkcnt_ownership=pd.DataFrame(freq_rnkcnt_ownership)\n",
    "freq_rnkcnt_ownership.rename(columns={\"loan_status\":\"Percentage\"},inplace=True)\n",
    "freq_rnkcnt_ownership=pd.DataFrame(freq_rnkcnt_ownership.to_records())\n",
    "freq_rnkcnt_ownership.sort_values(by=\"Percentage\",inplace=True)\n",
    "sns.barplot(x=\"home_ownership\",y=\"Percentage\",data=freq_rnkcnt_ownership,hue=\"loan_status\")\n",
    "# No clear correlation between home ownership and the Loan Status as there is no significant difference\n",
    "freq_rnkcnt_ownership"
   ]
  },
  {
   "cell_type": "code",
   "execution_count": 25,
   "metadata": {},
   "outputs": [
    {
     "data": {
      "text/plain": [
       "<AxesSubplot: xlabel='Percentage', ylabel='emp_length'>"
      ]
     },
     "execution_count": 25,
     "metadata": {},
     "output_type": "execute_result"
    },
    {
     "data": {
      "image/png": "[encoded data removed]",
      "text/plain": [
       "<Figure size 1000x1000 with 1 Axes>"
      ]
     },
     "metadata": {},
     "output_type": "display_data"
    }
   ],
   "source": [
    "#Studying the effect of number of years of experience a person has on loan status\n",
    "freq_rnkcnt_emp=(loans[(loans['loan_status']!=\"Current\")].groupby(['emp_length','loan_status']).grade.count()/loans[(loans['loan_status']!=\"Current\")].groupby(['emp_length']).grade.count())*100\n",
    "freq_rnkcnt_emp=pd.DataFrame(freq_rnkcnt_emp)\n",
    "freq_rnkcnt_emp.dropna(inplace=True,axis=0)\n",
    "freq_rnkcnt_emp.rename(columns={\"grade\":\"Percentage\"},inplace=True)\n",
    "freq_rnkcnt_emp=pd.DataFrame(freq_rnkcnt_emp.to_records())\n",
    "freq_rnkcnt_emp.sort_values(by=\"Percentage\",inplace=True)\n",
    "freq_rnkcnt_emp\n",
    "plt.figure(figsize=(10,10))\n",
    "sns.barplot(x=\"Percentage\",y=\"emp_length\",data=freq_rnkcnt_emp,hue=\"loan_status\")"
   ]
  },
  {
   "cell_type": "code",
   "execution_count": 26,
   "metadata": {},
   "outputs": [
    {
     "data": {
      "text/plain": [
       "<AxesSubplot: ylabel='annual_inc'>"
      ]
     },
     "execution_count": 26,
     "metadata": {},
     "output_type": "execute_result"
    },
    {
     "data": {
      "image/png": "[encoded data removed]",
      "text/plain": [
       "<Figure size 500x1500 with 1 Axes>"
      ]
     },
     "metadata": {},
     "output_type": "display_data"
    }
   ],
   "source": [
    "plt.figure(figsize=(5,15))\n",
    "sns.boxplot(y=\"annual_inc\",data=loans)"
   ]
  },
  {
   "cell_type": "markdown",
   "metadata": {},
   "source": [
    "<p>We can observe from the box plot above that there are outliers for the variable. Hence mean isn't the right measure for the central tendency. Instead we will be using median which is more appropriate in this scenario.</p>"
   ]
  },
  {
   "cell_type": "code",
   "execution_count": 27,
   "metadata": {},
   "outputs": [
    {
     "data": {
      "text/plain": [
       "<AxesSubplot: ylabel='annual_inc'>"
      ]
     },
     "execution_count": 27,
     "metadata": {},
     "output_type": "execute_result"
    },
    {
     "data": {
      "image/png": "[encoded data removed]",
      "text/plain": [
       "<Figure size 500x1500 with 1 Axes>"
      ]
     },
     "metadata": {},
     "output_type": "display_data"
    }
   ],
   "source": [
    "median = loans['annual_inc'].median()\n",
    "std = loans['annual_inc'].std()\n",
    "outliers = (loans['annual_inc'] - median).abs() > std\n",
    "loans[outliers] = np.nan\n",
    "loans['annual_inc'].fillna(median, inplace=True)\n",
    "plt.figure(figsize=(5,15))\n",
    "sns.boxplot(y=\"annual_inc\",data=loans)"
   ]
  },
  {
   "cell_type": "code",
   "execution_count": 28,
   "metadata": {},
   "outputs": [
    {
     "data": {
      "text/plain": [
       "count     36136.000000\n",
       "mean      59304.877964\n",
       "std       24033.794033\n",
       "min        4000.000000\n",
       "25%       41000.000000\n",
       "50%       60000.000000\n",
       "75%       74000.000000\n",
       "max      124596.000000\n",
       "Name: annual_inc, dtype: float64"
      ]
     },
     "execution_count": 28,
     "metadata": {},
     "output_type": "execute_result"
    }
   ],
   "source": [
    "loans['annual_inc'].describe()"
   ]
  },
  {
   "cell_type": "code",
   "execution_count": 29,
   "metadata": {},
   "outputs": [],
   "source": [
    "loans=loans[pd.notnull(loans['annual_inc'])]\n",
    "loans['annual_inc_classification']=pd.cut(loans['annual_inc'],[0,40000,80000,90000],labels=['Low','Mid Range','High'])\n",
    "loans=loans[pd.notnull(loans['annual_inc_classification'])]"
   ]
  },
  {
   "cell_type": "code",
   "execution_count": 30,
   "metadata": {},
   "outputs": [
    {
     "data": {
      "text/plain": [
       "<AxesSubplot: xlabel='annual_inc_classification', ylabel='Percentage'>"
      ]
     },
     "execution_count": 30,
     "metadata": {},
     "output_type": "execute_result"
    },
    {
     "data": {
      "image/png": "[encoded data removed]",
      "text/plain": [
       "<Figure size 640x480 with 1 Axes>"
      ]
     },
     "metadata": {},
     "output_type": "display_data"
    }
   ],
   "source": [
    "freq_rnkcnt_annual=(loans[(loans['loan_status']!=\"Current\")].groupby(['annual_inc_classification','loan_status']).loan_status.count()/loans[(loans['loan_status']!=\"Current\")].groupby(['annual_inc_classification']).loan_status.count())*100\n",
    "freq_rnkcnt_annual=pd.DataFrame(freq_rnkcnt_annual)\n",
    "freq_rnkcnt_annual.rename(columns={\"loan_status\":\"Percentage\"},inplace=True)\n",
    "freq_rnkcnt_annual=pd.DataFrame(freq_rnkcnt_annual.to_records())\n",
    "freq_rnkcnt_annual.sort_values(by=\"Percentage\",inplace=True)\n",
    "\n",
    "sns.barplot(x=\"annual_inc_classification\",y=\"Percentage\",data=freq_rnkcnt_annual,hue=\"loan_status\")"
   ]
  },
  {
   "cell_type": "code",
   "execution_count": 31,
   "metadata": {},
   "outputs": [
    {
     "data": {
      "text/plain": [
       "<AxesSubplot: xlabel='grade', ylabel='int_rate'>"
      ]
     },
     "execution_count": 31,
     "metadata": {},
     "output_type": "execute_result"
    },
    {
     "data": {
      "image/png": "[encoded data removed]",
      "text/plain": [
       "<Figure size 640x480 with 1 Axes>"
      ]
     },
     "metadata": {},
     "output_type": "display_data"
    }
   ],
   "source": [
    "freq_rnkcnt_int=loans[(loans['loan_status']==\"Charged Off\")].groupby(['grade']).int_rate.mean()\n",
    "freq_rnkcnt_int=pd.DataFrame(freq_rnkcnt_int)\n",
    "freq_rnkcnt_int=pd.DataFrame(freq_rnkcnt_int.to_records())\n",
    "freq_rnkcnt_int.sort_values(by=\"int_rate\",inplace=True,ascending=False)\n",
    "sns.barplot(x=\"grade\",y=\"int_rate\",data=freq_rnkcnt_int)"
   ]
  },
  {
   "cell_type": "code",
   "execution_count": null,
   "metadata": {},
   "outputs": [],
   "source": []
  },
  {
   "cell_type": "code",
   "execution_count": null,
   "metadata": {},
   "outputs": [],
   "source": []
  },
  {
   "cell_type": "code",
   "execution_count": null,
   "metadata": {},
   "outputs": [],
   "source": []
  },
  {
   "cell_type": "code",
   "execution_count": null,
   "metadata": {},
   "outputs": [],
   "source": []
  },
  {
   "cell_type": "code",
   "execution_count": null,
   "metadata": {},
   "outputs": [],
   "source": []
  }
 ],
 "metadata": {
  "kernelspec": {
   "display_name": "Python 3 (ipykernel)",
   "language": "python",
   "name": "python3"
  },
  "language_info": {
   "codemirror_mode": {
    "name": "ipython",
    "version": 3
   },
   "file_extension": ".py",
   "mimetype": "text/x-python",
   "name": "python",
   "nbconvert_exporter": "python",
   "pygments_lexer": "ipython3",
   "version": "3.10.8"
  }
 },
 "nbformat": 4,
 "nbformat_minor": 2
}
